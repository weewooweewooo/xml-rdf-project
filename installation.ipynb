{
 "cells": [
  {
   "cell_type": "code",
   "execution_count": 1,
   "id": "282fdddd-abe1-43f2-89d2-f64863dabf6b",
   "metadata": {},
   "outputs": [
    {
     "name": "stderr",
     "output_type": "stream",
     "text": [
      "'{sys.executable}' is not recognized as an internal or external command,\n",
      "operable program or batch file.\n"
     ]
    }
   ],
   "source": [
    "import sys\n",
    "\n",
    "!{sys.executable} -m pip install rdflib\n",
    "!{sys.executable} -m pip install flask\n",
    "!{sys.executable} -m pip install cachetools\n",
    "!{sys.executable} -m pip install certifi"
   ]
  },
  {
   "cell_type": "code",
   "execution_count": null,
   "id": "7a1eb6cf-9b0b-4f84-9196-f6361763f8fc",
   "metadata": {},
   "outputs": [],
   "source": []
  }
 ],
 "metadata": {
  "kernelspec": {
   "display_name": "Python 3 (ipykernel)",
   "language": "python",
   "name": "python3"
  },
  "language_info": {
   "codemirror_mode": {
    "name": "ipython",
    "version": 3
   },
   "file_extension": ".py",
   "mimetype": "text/x-python",
   "name": "python",
   "nbconvert_exporter": "python",
   "pygments_lexer": "ipython3",
   "version": "3.12.3"
  }
 },
 "nbformat": 4,
 "nbformat_minor": 5
}
